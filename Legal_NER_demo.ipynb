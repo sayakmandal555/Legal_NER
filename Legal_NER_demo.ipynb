{
  "cells": [
    {
      "cell_type": "code",
      "execution_count": null,
      "metadata": {
        "id": "GaatKdd-jyZq"
      },
      "outputs": [],
      "source": [
        "!pip install -q transformers datasets seqeval\n"
      ]
    },
    {
      "cell_type": "code",
      "execution_count": null,
      "metadata": {
        "id": "M69NT_Ajk0VH"
      },
      "outputs": [],
      "source": [
        "#Generate training data. This training data is just a demo...\n",
        "import random\n",
        "\n",
        "names = [\"John Smith\", \"Emily Johnson\", \"Michael Brown\"]\n",
        "orgs = [\"ACME Corp\", \"Global Logistics\"]\n",
        "vehicles = [\"Toyota Camry\", \"Ford F-150\"]\n",
        "locations = [\"New York\", \"Los Angeles\"]\n",
        "dates = [\"March 5, 2022\", \"April 10, 2023\"]\n",
        "\n",
        "def format_conll(tokens, labels):\n",
        "    return \"\\n\".join(f\"{tok} {lab}\" for tok, lab in zip(tokens, labels)) + \"\\n\\n\"\n",
        "\n",
        "def annotate_report():\n",
        "    name = random.choice(names)\n",
        "    org = random.choice(orgs)\n",
        "    vehicle = random.choice(vehicles)\n",
        "    location = random.choice(locations)\n",
        "    date = random.choice(dates)\n",
        "\n",
        "    sentence = f\"On {date}, {name} was driving a {vehicle} registered to {org} near {location}.\"\n",
        "    tokens = sentence.split()\n",
        "    labels = []\n",
        "\n",
        "    for tok in tokens:\n",
        "        if date.startswith(tok):\n",
        "            labels.append(\"B-DATE\")\n",
        "        elif tok in name.split():\n",
        "            labels.append(\"B-PER\" if tok == name.split()[0] else \"I-PER\")\n",
        "        elif tok in vehicle.split():\n",
        "            labels.append(\"B-VEH\" if tok == vehicle.split()[0] else \"I-VEH\")\n",
        "        elif tok in org.split():\n",
        "            labels.append(\"B-ORG\" if tok == org.split()[0] else \"I-ORG\")\n",
        "        elif tok in location.split():\n",
        "            labels.append(\"B-GPE\")\n",
        "        else:\n",
        "            labels.append(\"O\")\n",
        "\n",
        "    return format_conll(tokens, labels)\n",
        "\n",
        "with open(\"train.txt\", \"w\") as f:\n",
        "    for _ in range(100):\n",
        "        f.write(annotate_report())\n"
      ]
    },
    {
      "cell_type": "code",
      "source": [
        "#Convert CONLL data to Huggingface dataset\n",
        "from datasets import Dataset\n",
        "import pandas as pd\n",
        "\n",
        "# Load train.txt\n",
        "def read_conll(filename):\n",
        "    data = []\n",
        "    tokens, labels = [], []\n",
        "    with open(filename) as f:\n",
        "        for line in f:\n",
        "            if line.strip() == \"\":\n",
        "                if tokens:\n",
        "                    data.append({\"tokens\": tokens, \"ner_tags\": labels})\n",
        "                    tokens, labels = [], []\n",
        "                continue\n",
        "            token, tag = line.strip().split()\n",
        "            tokens.append(token)\n",
        "            labels.append(tag)\n",
        "    return data\n",
        "\n",
        "label_list = ['O', 'B-PER', 'I-PER', 'B-ORG', 'I-ORG', 'B-DATE', 'B-GPE', 'B-VEH', 'I-VEH']\n",
        "label_to_id = {l: i for i, l in enumerate(label_list)}\n",
        "\n",
        "data = read_conll(\"train.txt\")\n",
        "for d in data:\n",
        "    d[\"ner_tags\"] = [label_to_id[tag] for tag in d[\"ner_tags\"]]\n",
        "\n",
        "dataset = Dataset.from_list(data)\n"
      ],
      "metadata": {
        "id": "cneMsIhD4TKN"
      },
      "execution_count": null,
      "outputs": []
    },
    {
      "cell_type": "code",
      "source": [
        "#Tokenization and Data preparation\n",
        "from transformers import AutoTokenizer\n",
        "\n",
        "tokenizer = AutoTokenizer.from_pretrained(\"bert-base-cased\")\n",
        "\n",
        "def tokenize_and_align_labels(examples):\n",
        "    tokenized_inputs = tokenizer(examples[\"tokens\"], truncation=True, is_split_into_words=True)\n",
        "    labels = []\n",
        "\n",
        "    for i, label in enumerate(examples[\"ner_tags\"]):\n",
        "        word_ids = tokenized_inputs.word_ids(batch_index=i)\n",
        "        label_ids = []\n",
        "        previous_word_idx = None\n",
        "        for word_idx in word_ids:\n",
        "            if word_idx is None:\n",
        "                label_ids.append(-100)\n",
        "            elif word_idx != previous_word_idx:\n",
        "                label_ids.append(label[word_idx])\n",
        "            else:\n",
        "                label_ids.append(-100)\n",
        "            previous_word_idx = word_idx\n",
        "        labels.append(label_ids)\n",
        "\n",
        "    tokenized_inputs[\"labels\"] = labels\n",
        "    return tokenized_inputs\n",
        "\n",
        "tokenized_dataset = dataset.map(tokenize_and_align_labels, batched=True)\n"
      ],
      "metadata": {
        "colab": {
          "base_uri": "https://localhost:8080/",
          "height": 49,
          "referenced_widgets": [
            "bad2fc876cc54614bd62bcf55321d3f2",
            "4024f9396ab741c4bd90cbde8e38023f",
            "c0c2cdb54485482d94ad7f2f8924fed9",
            "506dff357cf3441f9264d4ef707f1621",
            "2032acc0caf94d92892b7ada67c68328",
            "d07581ad9bdb4eb28eede49cb41b4b30",
            "76c5ab1b22ed439884ea79936852cb2a",
            "832d52df8c8344039959d63b0a3d60f3",
            "5d3820b87d6a49828059c3371901d6dc",
            "79a2ce13245f441ca324256db73f6353",
            "6dd85ea8ea354928b692b4dd0b51a487"
          ]
        },
        "id": "-D-FfOCC92_G",
        "outputId": "2b31e97c-ebb7-4b9b-e02b-ebd793f3173a"
      },
      "execution_count": null,
      "outputs": [
        {
          "output_type": "display_data",
          "data": {
            "text/plain": [
              "Map:   0%|          | 0/100 [00:00<?, ? examples/s]"
            ],
            "application/vnd.jupyter.widget-view+json": {
              "version_major": 2,
              "version_minor": 0,
              "model_id": "bad2fc876cc54614bd62bcf55321d3f2"
            }
          },
          "metadata": {}
        }
      ]
    },
    {
      "cell_type": "code",
      "source": [
        "#Finetuning\n",
        "from transformers import AutoModelForTokenClassification, TrainingArguments, Trainer, DataCollatorForTokenClassification\n",
        "\n",
        "model = AutoModelForTokenClassification.from_pretrained(\"bert-base-cased\", num_labels=len(label_list))\n",
        "\n",
        "training_args = TrainingArguments(\n",
        "    output_dir=\"./results\",\n",
        "    per_device_train_batch_size=8,\n",
        "    num_train_epochs=10,\n",
        "    logging_dir='./logs',\n",
        "    logging_steps=10\n",
        ")\n",
        "\n",
        "# Create a DataCollatorForTokenClassification instance\n",
        "data_collator = DataCollatorForTokenClassification(tokenizer=tokenizer)\n",
        "\n",
        "trainer = Trainer(\n",
        "    model=model,\n",
        "    args=training_args,\n",
        "    train_dataset=tokenized_dataset,\n",
        "    tokenizer=tokenizer,\n",
        "    data_collator=data_collator # Add the data collator here\n",
        ")\n",
        "\n",
        "trainer.train()"
      ],
      "metadata": {
        "colab": {
          "base_uri": "https://localhost:8080/",
          "height": 642
        },
        "id": "qlMlC8l_-A46",
        "outputId": "4a487bd4-4f5d-4a08-98ae-c50851a07f16"
      },
      "execution_count": null,
      "outputs": [
        {
          "output_type": "stream",
          "name": "stderr",
          "text": [
            "Some weights of BertForTokenClassification were not initialized from the model checkpoint at bert-base-cased and are newly initialized: ['classifier.bias', 'classifier.weight']\n",
            "You should probably TRAIN this model on a down-stream task to be able to use it for predictions and inference.\n",
            "<ipython-input-32-ed6f0dc1c1e2>:17: FutureWarning: `tokenizer` is deprecated and will be removed in version 5.0.0 for `Trainer.__init__`. Use `processing_class` instead.\n",
            "  trainer = Trainer(\n"
          ]
        },
        {
          "output_type": "display_data",
          "data": {
            "text/plain": [
              "<IPython.core.display.HTML object>"
            ],
            "text/html": [
              "\n",
              "    <div>\n",
              "      \n",
              "      <progress value='130' max='130' style='width:300px; height:20px; vertical-align: middle;'></progress>\n",
              "      [130/130 08:15, Epoch 10/10]\n",
              "    </div>\n",
              "    <table border=\"1\" class=\"dataframe\">\n",
              "  <thead>\n",
              " <tr style=\"text-align: left;\">\n",
              "      <th>Step</th>\n",
              "      <th>Training Loss</th>\n",
              "    </tr>\n",
              "  </thead>\n",
              "  <tbody>\n",
              "    <tr>\n",
              "      <td>10</td>\n",
              "      <td>0.844900</td>\n",
              "    </tr>\n",
              "    <tr>\n",
              "      <td>20</td>\n",
              "      <td>0.029700</td>\n",
              "    </tr>\n",
              "    <tr>\n",
              "      <td>30</td>\n",
              "      <td>0.004400</td>\n",
              "    </tr>\n",
              "    <tr>\n",
              "      <td>40</td>\n",
              "      <td>0.002200</td>\n",
              "    </tr>\n",
              "    <tr>\n",
              "      <td>50</td>\n",
              "      <td>0.001600</td>\n",
              "    </tr>\n",
              "    <tr>\n",
              "      <td>60</td>\n",
              "      <td>0.001300</td>\n",
              "    </tr>\n",
              "    <tr>\n",
              "      <td>70</td>\n",
              "      <td>0.001200</td>\n",
              "    </tr>\n",
              "    <tr>\n",
              "      <td>80</td>\n",
              "      <td>0.001100</td>\n",
              "    </tr>\n",
              "    <tr>\n",
              "      <td>90</td>\n",
              "      <td>0.001000</td>\n",
              "    </tr>\n",
              "    <tr>\n",
              "      <td>100</td>\n",
              "      <td>0.001000</td>\n",
              "    </tr>\n",
              "    <tr>\n",
              "      <td>110</td>\n",
              "      <td>0.000900</td>\n",
              "    </tr>\n",
              "    <tr>\n",
              "      <td>120</td>\n",
              "      <td>0.000900</td>\n",
              "    </tr>\n",
              "    <tr>\n",
              "      <td>130</td>\n",
              "      <td>0.000900</td>\n",
              "    </tr>\n",
              "  </tbody>\n",
              "</table><p>"
            ]
          },
          "metadata": {}
        },
        {
          "output_type": "execute_result",
          "data": {
            "text/plain": [
              "TrainOutput(global_step=130, training_loss=0.06854498614198887, metrics={'train_runtime': 515.4234, 'train_samples_per_second': 1.94, 'train_steps_per_second': 0.252, 'total_flos': 13729155449400.0, 'train_loss': 0.06854498614198887, 'epoch': 10.0})"
            ]
          },
          "metadata": {},
          "execution_count": 32
        }
      ]
    },
    {
      "cell_type": "code",
      "source": [
        "from transformers import pipeline\n",
        "\n",
        "ner_pipeline = pipeline(\"ner\", model=model, tokenizer=tokenizer, grouped_entities=True)\n",
        "\n",
        "text = \"On March 5, 2022, Emily Johnson was driving a Toyota Camry registered to ACME Corp in Los Angeles.\"\n",
        "results = ner_pipeline(text)\n",
        "\n",
        "for entity in results:\n",
        "    print(entity)"
      ],
      "metadata": {
        "colab": {
          "base_uri": "https://localhost:8080/"
        },
        "id": "LvFUiTpL-LEe",
        "outputId": "ffbf7f66-8913-4f52-ad24-42b046915ba8"
      },
      "execution_count": null,
      "outputs": [
        {
          "output_type": "stream",
          "name": "stderr",
          "text": [
            "Device set to use cpu\n"
          ]
        },
        {
          "output_type": "stream",
          "name": "stdout",
          "text": [
            "{'entity_group': 'LABEL_0', 'score': np.float32(0.9996921), 'word': 'On', 'start': 0, 'end': 2}\n",
            "{'entity_group': 'LABEL_5', 'score': np.float32(0.99866295), 'word': 'March', 'start': 3, 'end': 8}\n",
            "{'entity_group': 'LABEL_0', 'score': np.float32(0.9887003), 'word': '5, 2022,', 'start': 9, 'end': 17}\n",
            "{'entity_group': 'LABEL_1', 'score': np.float32(0.99853325), 'word': 'Emily', 'start': 18, 'end': 23}\n",
            "{'entity_group': 'LABEL_2', 'score': np.float32(0.9985631), 'word': 'Johnson', 'start': 24, 'end': 31}\n",
            "{'entity_group': 'LABEL_0', 'score': np.float32(0.9996198), 'word': 'was driving a', 'start': 32, 'end': 45}\n",
            "{'entity_group': 'LABEL_7', 'score': np.float32(0.99808216), 'word': 'Toyota', 'start': 46, 'end': 52}\n",
            "{'entity_group': 'LABEL_8', 'score': np.float32(0.9983712), 'word': 'Cam', 'start': 53, 'end': 56}\n",
            "{'entity_group': 'LABEL_7', 'score': np.float32(0.51474154), 'word': '##ry', 'start': 56, 'end': 58}\n",
            "{'entity_group': 'LABEL_0', 'score': np.float32(0.999593), 'word': 'registered to', 'start': 59, 'end': 72}\n",
            "{'entity_group': 'LABEL_3', 'score': np.float32(0.9985374), 'word': 'AC', 'start': 73, 'end': 75}\n",
            "{'entity_group': 'LABEL_4', 'score': np.float32(0.8825791), 'word': '##ME Corp', 'start': 75, 'end': 82}\n",
            "{'entity_group': 'LABEL_0', 'score': np.float32(0.99953413), 'word': 'in', 'start': 83, 'end': 85}\n",
            "{'entity_group': 'LABEL_6', 'score': np.float32(0.9976292), 'word': 'Los', 'start': 86, 'end': 89}\n",
            "{'entity_group': 'LABEL_0', 'score': np.float32(0.68105817), 'word': 'Angeles.', 'start': 90, 'end': 98}\n"
          ]
        },
        {
          "output_type": "stream",
          "name": "stderr",
          "text": [
            "/usr/local/lib/python3.11/dist-packages/transformers/pipelines/token_classification.py:170: UserWarning: `grouped_entities` is deprecated and will be removed in version v5.0.0, defaulted to `aggregation_strategy=\"AggregationStrategy.SIMPLE\"` instead.\n",
            "  warnings.warn(\n"
          ]
        }
      ]
    },
    {
      "cell_type": "code",
      "source": [
        "from transformers import pipeline\n",
        "from transformers import AutoModelForTokenClassification, TrainingArguments, Trainer, DataCollatorForTokenClassification # Ensure all necessary classes are imported\n",
        "\n",
        "# Define your label list (ensure it matches what you used during training)\n",
        "label_list = ['O', 'B-PER', 'I-PER', 'B-ORG', 'I-ORG', 'B-DATE', 'B-GPE', 'B-VEH', 'I-VEH']\n",
        "id2label = {i: label for i, label in enumerate(label_list)}\n",
        "\n",
        "\n",
        "# Associate the id2label mapping with the model's configuration\n",
        "model.config.id2label = id2label\n",
        "model.config.label2id = {label: i for i, label in enumerate(label_list)} # It's also good practice to set label2id\n",
        "\n",
        "\n",
        "# Now create the pipeline without passing id2label directly\n",
        "ner_pipeline = pipeline(\"ner\", model=model, tokenizer=tokenizer, grouped_entities=True)\n",
        "\n",
        "# Example accident report text\n",
        "text = \"On March 5, 2022, Emily Johnson was driving a Toyota Camry registered to ACME Corp in Los Angeles.\"\n",
        "results = ner_pipeline(text)\n",
        "\n",
        "# Print each detected entity with its label name\n",
        "for entity in results:\n",
        "    # The 'entity_group' key will now contain the human-readable label name\n",
        "    print(f\"Entity: {entity['word']} | Label: {entity['entity_group']} | Score: {entity['score']:.2f}\")"
      ],
      "metadata": {
        "colab": {
          "base_uri": "https://localhost:8080/"
        },
        "id": "7tez_etFLhrJ",
        "outputId": "0eb009ef-1190-4808-a850-3ad8fc3d5d67"
      },
      "execution_count": null,
      "outputs": [
        {
          "output_type": "stream",
          "name": "stderr",
          "text": [
            "Device set to use cpu\n",
            "/usr/local/lib/python3.11/dist-packages/transformers/pipelines/token_classification.py:170: UserWarning: `grouped_entities` is deprecated and will be removed in version v5.0.0, defaulted to `aggregation_strategy=\"AggregationStrategy.SIMPLE\"` instead.\n",
            "  warnings.warn(\n"
          ]
        },
        {
          "output_type": "stream",
          "name": "stdout",
          "text": [
            "Entity: March | Label: DATE | Score: 1.00\n",
            "Entity: Emily Johnson | Label: PER | Score: 1.00\n",
            "Entity: Toyota Camry | Label: VEH | Score: 0.78\n",
            "Entity: AC | Label: ORG | Score: 1.00\n",
            "Entity: ##ME Corp | Label: ORG | Score: 0.74\n",
            "Entity: Los | Label: GPE | Score: 1.00\n"
          ]
        }
      ]
    },
    {
      "cell_type": "code",
      "source": [],
      "metadata": {
        "id": "a-qOfA6pT947"
      },
      "execution_count": null,
      "outputs": []
    }
  ],
  "metadata": {
    "colab": {
      "provenance": []
    },
    "kernelspec": {
      "display_name": "Python 3",
      "name": "python3"
    },
    "language_info": {
      "name": "python"
    },
    "widgets": {
      "application/vnd.jupyter.widget-state+json": {
        "bad2fc876cc54614bd62bcf55321d3f2": {
          "model_module": "@jupyter-widgets/controls",
          "model_name": "HBoxModel",
          "model_module_version": "1.5.0",
          "state": {
            "_dom_classes": [],
            "_model_module": "@jupyter-widgets/controls",
            "_model_module_version": "1.5.0",
            "_model_name": "HBoxModel",
            "_view_count": null,
            "_view_module": "@jupyter-widgets/controls",
            "_view_module_version": "1.5.0",
            "_view_name": "HBoxView",
            "box_style": "",
            "children": [
              "IPY_MODEL_4024f9396ab741c4bd90cbde8e38023f",
              "IPY_MODEL_c0c2cdb54485482d94ad7f2f8924fed9",
              "IPY_MODEL_506dff357cf3441f9264d4ef707f1621"
            ],
            "layout": "IPY_MODEL_2032acc0caf94d92892b7ada67c68328"
          }
        },
        "4024f9396ab741c4bd90cbde8e38023f": {
          "model_module": "@jupyter-widgets/controls",
          "model_name": "HTMLModel",
          "model_module_version": "1.5.0",
          "state": {
            "_dom_classes": [],
            "_model_module": "@jupyter-widgets/controls",
            "_model_module_version": "1.5.0",
            "_model_name": "HTMLModel",
            "_view_count": null,
            "_view_module": "@jupyter-widgets/controls",
            "_view_module_version": "1.5.0",
            "_view_name": "HTMLView",
            "description": "",
            "description_tooltip": null,
            "layout": "IPY_MODEL_d07581ad9bdb4eb28eede49cb41b4b30",
            "placeholder": "​",
            "style": "IPY_MODEL_76c5ab1b22ed439884ea79936852cb2a",
            "value": "Map: 100%"
          }
        },
        "c0c2cdb54485482d94ad7f2f8924fed9": {
          "model_module": "@jupyter-widgets/controls",
          "model_name": "FloatProgressModel",
          "model_module_version": "1.5.0",
          "state": {
            "_dom_classes": [],
            "_model_module": "@jupyter-widgets/controls",
            "_model_module_version": "1.5.0",
            "_model_name": "FloatProgressModel",
            "_view_count": null,
            "_view_module": "@jupyter-widgets/controls",
            "_view_module_version": "1.5.0",
            "_view_name": "ProgressView",
            "bar_style": "success",
            "description": "",
            "description_tooltip": null,
            "layout": "IPY_MODEL_832d52df8c8344039959d63b0a3d60f3",
            "max": 100,
            "min": 0,
            "orientation": "horizontal",
            "style": "IPY_MODEL_5d3820b87d6a49828059c3371901d6dc",
            "value": 100
          }
        },
        "506dff357cf3441f9264d4ef707f1621": {
          "model_module": "@jupyter-widgets/controls",
          "model_name": "HTMLModel",
          "model_module_version": "1.5.0",
          "state": {
            "_dom_classes": [],
            "_model_module": "@jupyter-widgets/controls",
            "_model_module_version": "1.5.0",
            "_model_name": "HTMLModel",
            "_view_count": null,
            "_view_module": "@jupyter-widgets/controls",
            "_view_module_version": "1.5.0",
            "_view_name": "HTMLView",
            "description": "",
            "description_tooltip": null,
            "layout": "IPY_MODEL_79a2ce13245f441ca324256db73f6353",
            "placeholder": "​",
            "style": "IPY_MODEL_6dd85ea8ea354928b692b4dd0b51a487",
            "value": " 100/100 [00:00&lt;00:00, 705.44 examples/s]"
          }
        },
        "2032acc0caf94d92892b7ada67c68328": {
          "model_module": "@jupyter-widgets/base",
          "model_name": "LayoutModel",
          "model_module_version": "1.2.0",
          "state": {
            "_model_module": "@jupyter-widgets/base",
            "_model_module_version": "1.2.0",
            "_model_name": "LayoutModel",
            "_view_count": null,
            "_view_module": "@jupyter-widgets/base",
            "_view_module_version": "1.2.0",
            "_view_name": "LayoutView",
            "align_content": null,
            "align_items": null,
            "align_self": null,
            "border": null,
            "bottom": null,
            "display": null,
            "flex": null,
            "flex_flow": null,
            "grid_area": null,
            "grid_auto_columns": null,
            "grid_auto_flow": null,
            "grid_auto_rows": null,
            "grid_column": null,
            "grid_gap": null,
            "grid_row": null,
            "grid_template_areas": null,
            "grid_template_columns": null,
            "grid_template_rows": null,
            "height": null,
            "justify_content": null,
            "justify_items": null,
            "left": null,
            "margin": null,
            "max_height": null,
            "max_width": null,
            "min_height": null,
            "min_width": null,
            "object_fit": null,
            "object_position": null,
            "order": null,
            "overflow": null,
            "overflow_x": null,
            "overflow_y": null,
            "padding": null,
            "right": null,
            "top": null,
            "visibility": null,
            "width": null
          }
        },
        "d07581ad9bdb4eb28eede49cb41b4b30": {
          "model_module": "@jupyter-widgets/base",
          "model_name": "LayoutModel",
          "model_module_version": "1.2.0",
          "state": {
            "_model_module": "@jupyter-widgets/base",
            "_model_module_version": "1.2.0",
            "_model_name": "LayoutModel",
            "_view_count": null,
            "_view_module": "@jupyter-widgets/base",
            "_view_module_version": "1.2.0",
            "_view_name": "LayoutView",
            "align_content": null,
            "align_items": null,
            "align_self": null,
            "border": null,
            "bottom": null,
            "display": null,
            "flex": null,
            "flex_flow": null,
            "grid_area": null,
            "grid_auto_columns": null,
            "grid_auto_flow": null,
            "grid_auto_rows": null,
            "grid_column": null,
            "grid_gap": null,
            "grid_row": null,
            "grid_template_areas": null,
            "grid_template_columns": null,
            "grid_template_rows": null,
            "height": null,
            "justify_content": null,
            "justify_items": null,
            "left": null,
            "margin": null,
            "max_height": null,
            "max_width": null,
            "min_height": null,
            "min_width": null,
            "object_fit": null,
            "object_position": null,
            "order": null,
            "overflow": null,
            "overflow_x": null,
            "overflow_y": null,
            "padding": null,
            "right": null,
            "top": null,
            "visibility": null,
            "width": null
          }
        },
        "76c5ab1b22ed439884ea79936852cb2a": {
          "model_module": "@jupyter-widgets/controls",
          "model_name": "DescriptionStyleModel",
          "model_module_version": "1.5.0",
          "state": {
            "_model_module": "@jupyter-widgets/controls",
            "_model_module_version": "1.5.0",
            "_model_name": "DescriptionStyleModel",
            "_view_count": null,
            "_view_module": "@jupyter-widgets/base",
            "_view_module_version": "1.2.0",
            "_view_name": "StyleView",
            "description_width": ""
          }
        },
        "832d52df8c8344039959d63b0a3d60f3": {
          "model_module": "@jupyter-widgets/base",
          "model_name": "LayoutModel",
          "model_module_version": "1.2.0",
          "state": {
            "_model_module": "@jupyter-widgets/base",
            "_model_module_version": "1.2.0",
            "_model_name": "LayoutModel",
            "_view_count": null,
            "_view_module": "@jupyter-widgets/base",
            "_view_module_version": "1.2.0",
            "_view_name": "LayoutView",
            "align_content": null,
            "align_items": null,
            "align_self": null,
            "border": null,
            "bottom": null,
            "display": null,
            "flex": null,
            "flex_flow": null,
            "grid_area": null,
            "grid_auto_columns": null,
            "grid_auto_flow": null,
            "grid_auto_rows": null,
            "grid_column": null,
            "grid_gap": null,
            "grid_row": null,
            "grid_template_areas": null,
            "grid_template_columns": null,
            "grid_template_rows": null,
            "height": null,
            "justify_content": null,
            "justify_items": null,
            "left": null,
            "margin": null,
            "max_height": null,
            "max_width": null,
            "min_height": null,
            "min_width": null,
            "object_fit": null,
            "object_position": null,
            "order": null,
            "overflow": null,
            "overflow_x": null,
            "overflow_y": null,
            "padding": null,
            "right": null,
            "top": null,
            "visibility": null,
            "width": null
          }
        },
        "5d3820b87d6a49828059c3371901d6dc": {
          "model_module": "@jupyter-widgets/controls",
          "model_name": "ProgressStyleModel",
          "model_module_version": "1.5.0",
          "state": {
            "_model_module": "@jupyter-widgets/controls",
            "_model_module_version": "1.5.0",
            "_model_name": "ProgressStyleModel",
            "_view_count": null,
            "_view_module": "@jupyter-widgets/base",
            "_view_module_version": "1.2.0",
            "_view_name": "StyleView",
            "bar_color": null,
            "description_width": ""
          }
        },
        "79a2ce13245f441ca324256db73f6353": {
          "model_module": "@jupyter-widgets/base",
          "model_name": "LayoutModel",
          "model_module_version": "1.2.0",
          "state": {
            "_model_module": "@jupyter-widgets/base",
            "_model_module_version": "1.2.0",
            "_model_name": "LayoutModel",
            "_view_count": null,
            "_view_module": "@jupyter-widgets/base",
            "_view_module_version": "1.2.0",
            "_view_name": "LayoutView",
            "align_content": null,
            "align_items": null,
            "align_self": null,
            "border": null,
            "bottom": null,
            "display": null,
            "flex": null,
            "flex_flow": null,
            "grid_area": null,
            "grid_auto_columns": null,
            "grid_auto_flow": null,
            "grid_auto_rows": null,
            "grid_column": null,
            "grid_gap": null,
            "grid_row": null,
            "grid_template_areas": null,
            "grid_template_columns": null,
            "grid_template_rows": null,
            "height": null,
            "justify_content": null,
            "justify_items": null,
            "left": null,
            "margin": null,
            "max_height": null,
            "max_width": null,
            "min_height": null,
            "min_width": null,
            "object_fit": null,
            "object_position": null,
            "order": null,
            "overflow": null,
            "overflow_x": null,
            "overflow_y": null,
            "padding": null,
            "right": null,
            "top": null,
            "visibility": null,
            "width": null
          }
        },
        "6dd85ea8ea354928b692b4dd0b51a487": {
          "model_module": "@jupyter-widgets/controls",
          "model_name": "DescriptionStyleModel",
          "model_module_version": "1.5.0",
          "state": {
            "_model_module": "@jupyter-widgets/controls",
            "_model_module_version": "1.5.0",
            "_model_name": "DescriptionStyleModel",
            "_view_count": null,
            "_view_module": "@jupyter-widgets/base",
            "_view_module_version": "1.2.0",
            "_view_name": "StyleView",
            "description_width": ""
          }
        }
      }
    }
  },
  "nbformat": 4,
  "nbformat_minor": 0
}